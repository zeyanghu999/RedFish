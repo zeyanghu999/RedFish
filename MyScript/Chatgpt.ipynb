{
 "cells": [
  {
   "cell_type": "markdown",
   "id": "615af6b4",
   "metadata": {},
   "source": [
    "以下是使用Python的第三方库yfinance获取历史股票数据的实践例子：\n",
    "\n",
    "首先，需要安装yfinance库，可以使用pip install yfinance进行安装。\n",
    "\n",
    "导入yfinance库并获取指定股票的历史数据，例如：\n",
    "\n",
    "`import yfinance as yf\n",
    "\n",
    "symbol = \"AAPL\"  # 股票代码\n",
    "start_date = \"2016-01-01\"  # 开始日期\n",
    "end_date = \"2022-03-01\"  # 结束日期\n",
    "\n",
    "data = yf.download(symbol, start=start_date, end=end_date)\n",
    "print(data.head())`\n",
    "\n",
    "运行以上代码，就可以获取到指定股票在指定时间范围内的历史股票数据，并输出前几行数据。可以根据需要进行后续处理和分析。\n"
   ]
  },
  {
   "cell_type": "code",
   "execution_count": 5,
   "id": "972f685b",
   "metadata": {},
   "outputs": [],
   "source": [
    "import yfinance as yf\n",
    "import pandas as pd"
   ]
  },
  {
   "cell_type": "code",
   "execution_count": 6,
   "id": "f5c5d153",
   "metadata": {},
   "outputs": [
    {
     "name": "stdout",
     "output_type": "stream",
     "text": [
      "[*********************100%***********************]  1 of 1 completed\n"
     ]
    }
   ],
   "source": [
    "symbol = \"AAPL\"\n",
    "start_data = \"2016-01-01\"\n",
    "end_data = \"2022-03-01\"\n",
    "data = yf.download(symbol , start=start_data , end=end_data)\n",
    "\n",
    "data.to_csv('AAPL.csv')"
   ]
  },
  {
   "cell_type": "markdown",
   "id": "aa2ac4ca",
   "metadata": {},
   "source": [
    "要读取csv可以运行这一段代码\n",
    "```\n",
    "import pandas as pd\n",
    "\n",
    "data = pd.read_csv('AAPL.csv', index_col='date', parse_dates=True)\n",
    "print(data.head())\n",
    "\n",
    "```"
   ]
  },
  {
   "cell_type": "code",
   "execution_count": 8,
   "id": "8bd5361c",
   "metadata": {},
   "outputs": [],
   "source": [
    "from alpha_vantage.timeseries import TimeSeries\n",
    "\n",
    "api_key = 'N05EUNR6XEI03XGY'  # 替换为自己的API Key\n",
    "symbol = 'AAPL'  # 股票代码\n",
    "\n",
    "ts = TimeSeries(key=api_key, output_format='pandas')\n",
    "data, meta_data = ts.get_daily_adjusted(symbol=symbol, outputsize='full')\n",
    "data.to_csv('AAPL.csv')\n"
   ]
  },
  {
   "cell_type": "code",
   "execution_count": null,
   "id": "fae00a32",
   "metadata": {},
   "outputs": [],
   "source": []
  }
 ],
 "metadata": {
  "kernelspec": {
   "display_name": "Python [conda env:.conda-my_env]",
   "language": "python",
   "name": "conda-env-.conda-my_env-py"
  },
  "language_info": {
   "codemirror_mode": {
    "name": "ipython",
    "version": 3
   },
   "file_extension": ".py",
   "mimetype": "text/x-python",
   "name": "python",
   "nbconvert_exporter": "python",
   "pygments_lexer": "ipython3",
   "version": "3.10.9"
  }
 },
 "nbformat": 4,
 "nbformat_minor": 5
}
