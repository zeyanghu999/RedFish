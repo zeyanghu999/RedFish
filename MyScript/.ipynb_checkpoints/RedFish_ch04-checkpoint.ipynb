{
 "cells": [
  {
   "cell_type": "code",
   "execution_count": 9,
   "id": "94d82ff6",
   "metadata": {},
   "outputs": [],
   "source": [
    "import numpy as np\n",
    "import matplotlib.pylab as plt"
   ]
  },
  {
   "cell_type": "markdown",
   "id": "070c9db6",
   "metadata": {},
   "source": [
    "# 神经网络的学习\n",
    "* 本章将介绍神经网络的学习，即利用数据决定参数值的方法\n",
    "* 用Python实现对MNIST手写数字数据集的学习"
   ]
  },
  {
   "cell_type": "markdown",
   "id": "779ca519",
   "metadata": {},
   "source": [
    "# 1. 从数据中学习\n",
    "如果让我们自己来设计一个能将5正确分类的程序，就会意外地发现这是一个很难的问题。\n",
    "一种方案是，先从图像中提取特征量，再用机器学习技术学习这些特征量的模式。\n",
    "* 特征量是指从输入数据（输入图像）中准确地提取本质数据（重要的数据）的转换器"
   ]
  },
  {
   "cell_type": "markdown",
   "id": "729d8da8",
   "metadata": {},
   "source": [
    "两种针对机器学习任务的方法，如下图所示\n",
    "## 第一种需要人为干涉\n",
    "## 第二种不需要人为干涉\n",
    "\n",
    "![两种针对机器学习任务的方法](img4_1.png \" \")"
   ]
  },
  {
   "cell_type": "markdown",
   "id": "7bd8e77a",
   "metadata": {},
   "source": [
    "# 2. 均方误差（mean squared error）\n",
    "均方误差会计算神经网络的输出和正确解监督数据的各个元素之差的平方,再求总和\n",
    "![均方误差](img4_2.png \" \")"
   ]
  },
  {
   "cell_type": "code",
   "execution_count": 1,
   "id": "2972fe46",
   "metadata": {},
   "outputs": [],
   "source": [
    "def mean_squared_error(y, t):\n",
    "    return 0.5 * np.sum((y-t)**2)"
   ]
  },
  {
   "cell_type": "code",
   "execution_count": 7,
   "id": "198724f1",
   "metadata": {},
   "outputs": [
    {
     "data": {
      "text/plain": [
       "0.09750000000000003"
      ]
     },
     "execution_count": 7,
     "metadata": {},
     "output_type": "execute_result"
    }
   ],
   "source": [
    "# 设“2”为正确解\n",
    "t = [0, 0, 1, 0, 0, 0, 0, 0, 0, 0]\n",
    "y = [0.1, 0.05, 0.6, 0.0, 0.05, 0.1, 0.0, 0.1, 0.0, 0.0]\n",
    "mean_squared_error(np.array(y), np.array(t))"
   ]
  },
  {
   "cell_type": "markdown",
   "id": "01f36c06",
   "metadata": {},
   "source": [
    "# 3. 交叉熵误差（cross entropy error）\n",
    "交叉熵误差的值是由正确解标签所对应的输出结果决定的\n",
    "![交叉熵误差](img4_3.png \" \")"
   ]
  },
  {
   "cell_type": "code",
   "execution_count": 2,
   "id": "fe6c290f",
   "metadata": {},
   "outputs": [],
   "source": [
    "def cross_entropy_error(y, t):\n",
    "    delta = 1e-7 # 当出现np.log(0)时，np.log(0)会变为负无限大的-inf\n",
    "                # 作为保护性对策，添加一个微小值可以防止负无限大的发生\n",
    "    return -np.sum(t * np.log(y + delta))"
   ]
  },
  {
   "cell_type": "code",
   "execution_count": 6,
   "id": "79930387",
   "metadata": {},
   "outputs": [
    {
     "data": {
      "text/plain": [
       "0.510825457099338"
      ]
     },
     "execution_count": 6,
     "metadata": {},
     "output_type": "execute_result"
    }
   ],
   "source": [
    "# 设“2”为正确解\n",
    "t = [0, 0, 1, 0, 0, 0, 0, 0, 0, 0]\n",
    "y = [0.1, 0.05, 0.6, 0.0, 0.05, 0.1, 0.0, 0.1, 0.0, 0.0]\n",
    "cross_entropy_error(np.array(y), np.array(t))"
   ]
  },
  {
   "cell_type": "markdown",
   "id": "31d70423",
   "metadata": {},
   "source": [
    "    均方误差和交叉熵误差是两种不同的损失函数，损失函数是表示神经网络性能的“恶劣程度”的指标，即当前的神经网络对监督数据在多大程度上不拟合。"
   ]
  },
  {
   "cell_type": "markdown",
   "id": "11fcc05f",
   "metadata": {},
   "source": [
    "# 4. mini-batch学习\n",
    "从训练数据中选出一批数据（称为mini-batch,小批量），然后对每个mini-batch进行学习。"
   ]
  },
  {
   "cell_type": "markdown",
   "id": "0f88f866",
   "metadata": {},
   "source": [
    "## 批数据的损失函数\n",
    "以交叉熵误差为例：\n",
    "![交叉熵误差对于批数据的损失函数](img4_4.png \" \")"
   ]
  },
  {
   "cell_type": "markdown",
   "id": "da0ae15e",
   "metadata": {},
   "source": [
    "# 5. 数值微分\n",
    "数值微分就是求导"
   ]
  },
  {
   "cell_type": "code",
   "execution_count": 19,
   "id": "10a5a174",
   "metadata": {},
   "outputs": [],
   "source": [
    "#求一个函数的导数\n",
    "def numerical_diff(f , x):\n",
    "    h = 1e-4 #0.0001\n",
    "    return (f(x+h) - f(x-h)) / (2*h)"
   ]
  },
  {
   "cell_type": "markdown",
   "id": "94fc2ea5",
   "metadata": {},
   "source": [
    "例子，求一个二次函数的导数，如下：\n",
    "![二次函数](img4_5.png \" \")"
   ]
  },
  {
   "cell_type": "code",
   "execution_count": 20,
   "id": "968e22e2",
   "metadata": {},
   "outputs": [],
   "source": [
    "def function_1(x):\n",
    "    return 0.01*x**2 + 0.1*x"
   ]
  },
  {
   "cell_type": "code",
   "execution_count": 21,
   "id": "92db7a90",
   "metadata": {
    "scrolled": false
   },
   "outputs": [
    {
     "data": {
      "image/png": "[encoded data removed]",
      "text/plain": [
       "<Figure size 640x480 with 1 Axes>"
      ]
     },
     "metadata": {},
     "output_type": "display_data"
    }
   ],
   "source": [
    "#画出这个函数图像\n",
    "x = np.arange(0.0, 20.0, 0.1) # 以0.1为单位，从0到20的数组x\n",
    "y = function_1(x)\n",
    "plt.xlabel(\"x\")\n",
    "plt.ylabel(\"f(x)\")\n",
    "plt.plot(x, y)\n",
    "plt.show()"
   ]
  },
  {
   "cell_type": "code",
   "execution_count": 22,
   "id": "38c47c0a",
   "metadata": {},
   "outputs": [
    {
     "data": {
      "text/plain": [
       "0.1999999999990898"
      ]
     },
     "execution_count": 22,
     "metadata": {},
     "output_type": "execute_result"
    }
   ],
   "source": [
    "#计算一下这个函数在x = 5处的导数\n",
    "numerical_diff(function_1, 5)"
   ]
  },
  {
   "cell_type": "code",
   "execution_count": null,
   "id": "5819030e",
   "metadata": {},
   "outputs": [],
   "source": []
  }
 ],
 "metadata": {
  "kernelspec": {
   "display_name": "Python [conda env:.conda-my_env]",
   "language": "python",
   "name": "conda-env-.conda-my_env-py"
  },
  "language_info": {
   "codemirror_mode": {
    "name": "ipython",
    "version": 3
   },
   "file_extension": ".py",
   "mimetype": "text/x-python",
   "name": "python",
   "nbconvert_exporter": "python",
   "pygments_lexer": "ipython3",
   "version": "3.10.9"
  }
 },
 "nbformat": 4,
 "nbformat_minor": 5
}
