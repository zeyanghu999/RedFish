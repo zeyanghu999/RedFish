{
 "cells": [
  {
   "cell_type": "markdown",
   "id": "bfe239c4",
   "metadata": {},
   "source": [
    "# 乘法层的实现"
   ]
  },
  {
   "cell_type": "code",
   "execution_count": 12,
   "id": "99b6a8c8",
   "metadata": {},
   "outputs": [],
   "source": [
    "#############################\n",
    "class MulLayer:\n",
    "    def __init__(self):\n",
    "        #这里一定要写属性x和y是因为它们来保存正向传播时的输入值\n",
    "        #加法层就不写，因为它不需要\n",
    "        self.x = None\n",
    "        self.y = None\n",
    "        \n",
    "    def forward(self , x , y):\n",
    "        self.x = x\n",
    "        self.y = y\n",
    "        out = x*y\n",
    "        \n",
    "        return out\n",
    "    \n",
    "    def backward(self, dout):\n",
    "        dx = dout * self.y\n",
    "        dy = dout * self.x\n",
    "        \n",
    "        return dx,dy\n",
    "###############################"
   ]
  },
  {
   "cell_type": "code",
   "execution_count": 13,
   "id": "bc9b8753",
   "metadata": {
    "scrolled": true
   },
   "outputs": [
    {
     "name": "stdout",
     "output_type": "stream",
     "text": [
      "220.00000000000003\n"
     ]
    }
   ],
   "source": [
    "# 使用乘法层实现苹果的购买\n",
    "apple = 100\n",
    "apple_num = 2\n",
    "tax = 1.1\n",
    "\n",
    "#layer\n",
    "mul_apple_layer = MulLayer()\n",
    "mul_tax_layer= MulLayer()\n",
    "\n",
    "#forward\n",
    "apple_price = mul_apple_layer.forward(apple , apple_num)\n",
    "price = mul_tax_layer.forward(apple_price , tax)\n",
    "\n",
    "print(price) #220"
   ]
  },
  {
   "cell_type": "code",
   "execution_count": 15,
   "id": "d44c5237",
   "metadata": {},
   "outputs": [
    {
     "name": "stdout",
     "output_type": "stream",
     "text": [
      "2.2 110.00000000000001 200\n"
     ]
    }
   ],
   "source": [
    "#用backward求导数\n",
    "dprice = 1\n",
    "dapple_price , dtax = mul_tax_layer.backward(dprice)\n",
    "dapple , dapple_num = mul_apple_layer.backward(dapple_price)\n",
    "#这两步真有点不太好理解，建议对着图看\n",
    "#其实就是和正向传播的时候完全相反\n",
    "\n",
    "print(dapple, dapple_num, dtax)"
   ]
  },
  {
   "cell_type": "markdown",
   "id": "9c8359e6",
   "metadata": {},
   "source": [
    "![反向传播示例](img\\img5_1.png \" \")"
   ]
  },
  {
   "cell_type": "markdown",
   "id": "016c6c72",
   "metadata": {},
   "source": [
    "# 加法层的实现"
   ]
  },
  {
   "cell_type": "code",
   "execution_count": 16,
   "id": "1360962a",
   "metadata": {},
   "outputs": [],
   "source": [
    "class AddLayer:\n",
    "    def __init__(self):\n",
    "        pass\n",
    "    \n",
    "    def forward(self , x ,y):\n",
    "        out = x + y\n",
    "        \n",
    "        return out\n",
    "    \n",
    "    def backward(self , dout):\n",
    "        #dout保存上游传过来的值，上游是指右边\n",
    "        dx = dout * 1\n",
    "        dy = dout * 1\n",
    "        \n",
    "        return dx,dy\n",
    "    "
   ]
  },
  {
   "cell_type": "markdown",
   "id": "333a15e4",
   "metadata": {},
   "source": [
    "# 代码实现购买苹果和橘子的例子\n",
    "![购买苹果和橘子](img\\img5_2.png \" \")"
   ]
  },
  {
   "cell_type": "code",
   "execution_count": 18,
   "id": "64f2fd5d",
   "metadata": {},
   "outputs": [
    {
     "name": "stdout",
     "output_type": "stream",
     "text": [
      "715.0000000000001\n",
      "110.00000000000001 2.2 3.3000000000000003 165.0 650\n"
     ]
    }
   ],
   "source": [
    "apple = 100\n",
    "apple_num = 2\n",
    "orange = 150\n",
    "orange_num = 3\n",
    "tax = 1.1\n",
    "\n",
    "#layer\n",
    "mul_apple_layer = MulLayer()\n",
    "mul_orange_layer = MulLayer()\n",
    "apple_plus_orange = AddLayer()\n",
    "mul_tax_layer = MulLayer()\n",
    "\n",
    "#forward\n",
    "apple_price = mul_apple_layer.forward(apple , apple_num)\n",
    "orange_peice = mul_orange_layer.forward(orange , orange_num)\n",
    "all_price = apple_plus_orange.forward(apple_price , orange_peice)\n",
    "price = mul_tax_layer.forward(all_price , tax)\n",
    "\n",
    "#backward\n",
    "dprice = 1#第一个从上游传过来的参数是1\n",
    "\n",
    "dall_price, dtax = mul_tax_layer.backward(dprice) #(4)\n",
    "dapple_price, dorange_price = apple_plus_orange.backward(dall_price) #(3)\n",
    "dorange, dorange_num = mul_orange_layer.backward(dorange_price) #(2)\n",
    "dapple, dapple_num = mul_apple_layer.backward(dapple_price) #(1)\n",
    "\n",
    "print(price)\n",
    "print(dapple_num , dapple , dorange , dorange_num , dtax)"
   ]
  },
  {
   "cell_type": "markdown",
   "id": "12af143a",
   "metadata": {},
   "source": [
    "# 激活函数层的实现\n",
    "把神经网络的层全都实现为类\n",
    "\n",
    "## ReLU层\n",
    "![ReLU函数](img\\img5_3.png \" \")\n",
    "* 如果正向传播时的输入x大于0，则反向传播会将上游的值原封不动地传给下游\n",
    "* 如果正向传播时的x小于等于0，则反向传播中传给下游的信号将停在此处"
   ]
  },
  {
   "cell_type": "code",
   "execution_count": 1,
   "id": "60680715",
   "metadata": {},
   "outputs": [],
   "source": [
    "###########################\n",
    "class Relu:\n",
    "    def __init__(self):\n",
    "        self.mask = None\n",
    "        #mask是由True/False构成的NumPy数组\n",
    "    \n",
    "    def forward(self,x):\n",
    "        #若x值小于0，则记录true；否则记录false\n",
    "        self.mask = (x<=0)\n",
    "        #out完全复制了x\n",
    "        out = x.copy()\n",
    "        #out这个数组上小于等于0的都赋值为0，大于等于0的就是本身\n",
    "        out[self.mask] = 0\n",
    "        \n",
    "        return out\n",
    "    \n",
    "    def backward(self , dout):\n",
    "        # 仅将小于等于0的值的梯度设置为零\n",
    "        dout[self.mask] = 0\n",
    "        #由于x>0时ReLU函数的导数为1，因此乘积简化为dout\n",
    "        dx = dout\n",
    "\n",
    "        return dx\n",
    "###########################"
   ]
  },
  {
   "cell_type": "markdown",
   "id": "a57e3453",
   "metadata": {},
   "source": [
    "## sigmoid层\n",
    "![sigmoid函数](img\\img5_4.png \" \")\n",
    "这里不仅有 * 节点和 + 节点，还有 exp 节点和 / 节点。\n",
    "\n",
    "**sigmoid函数的分解：**"
   ]
  },
  {
   "cell_type": "markdown",
   "id": "b7ab12ed",
   "metadata": {},
   "source": [
    "![步骤1](img\\img5_5.png \"\")"
   ]
  },
  {
   "attachments": {},
   "cell_type": "markdown",
   "id": "9805838f",
   "metadata": {},
   "source": [
    "![步骤2](img\\img5_6.png \"\")"
   ]
  },
  {
   "cell_type": "markdown",
   "id": "e48aca77",
   "metadata": {},
   "source": [
    "![步骤3](img\\img5_7.png \"\")"
   ]
  },
  {
   "cell_type": "markdown",
   "id": "0ce5871c",
   "metadata": {},
   "source": [
    "![步骤3](img\\img5_8.png \"\")"
   ]
  },
  {
   "cell_type": "code",
   "execution_count": null,
   "id": "ad19c727",
   "metadata": {},
   "outputs": [],
   "source": []
  },
  {
   "cell_type": "code",
   "execution_count": null,
   "id": "bd98d8f5",
   "metadata": {},
   "outputs": [],
   "source": []
  },
  {
   "cell_type": "code",
   "execution_count": null,
   "id": "50266b74",
   "metadata": {},
   "outputs": [],
   "source": []
  }
 ],
 "metadata": {
  "kernelspec": {
   "display_name": "Python [conda env:.conda-my_env]",
   "language": "python",
   "name": "conda-env-.conda-my_env-py"
  },
  "language_info": {
   "codemirror_mode": {
    "name": "ipython",
    "version": 3
   },
   "file_extension": ".py",
   "mimetype": "text/x-python",
   "name": "python",
   "nbconvert_exporter": "python",
   "pygments_lexer": "ipython3",
   "version": "3.10.9"
  }
 },
 "nbformat": 4,
 "nbformat_minor": 5
}
