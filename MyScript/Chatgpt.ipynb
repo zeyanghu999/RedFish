{
 "cells": [
  {
   "cell_type": "markdown",
   "id": "615af6b4",
   "metadata": {},
   "source": [
    "以下是使用Python的第三方库yfinance获取历史股票数据的实践例子：\n",
    "\n",
    "首先，需要安装yfinance库，可以使用pip install yfinance进行安装。\n",
    "\n",
    "导入yfinance库并获取指定股票的历史数据，例如：\n",
    "\n",
    "`import yfinance as yf\n",
    "\n",
    "symbol = \"AAPL\"  # 股票代码\n",
    "start_date = \"2016-01-01\"  # 开始日期\n",
    "end_date = \"2022-03-01\"  # 结束日期\n",
    "\n",
    "data = yf.download(symbol, start=start_date, end=end_date)\n",
    "print(data.head())`\n",
    "\n",
    "运行以上代码，就可以获取到指定股票在指定时间范围内的历史股票数据，并输出前几行数据。可以根据需要进行后续处理和分析。\n"
   ]
  },
  {
   "cell_type": "code",
   "execution_count": 5,
   "id": "972f685b",
   "metadata": {},
   "outputs": [],
   "source": [
    "import yfinance as yf\n",
    "import pandas as pd"
   ]
  },
  {
   "cell_type": "code",
   "execution_count": 6,
   "id": "f5c5d153",
   "metadata": {},
   "outputs": [
    {
     "name": "stdout",
     "output_type": "stream",
     "text": [
      "[*********************100%***********************]  1 of 1 completed\n"
     ]
    }
   ],
   "source": [
    "symbol = \"AAPL\"\n",
    "start_data = \"2016-01-01\"\n",
    "end_data = \"2022-03-01\"\n",
    "data = yf.download(symbol , start=start_data , end=end_data)\n",
    "\n",
    "data.to_csv('AAPL.csv')"
   ]
  },
  {
   "cell_type": "markdown",
   "id": "aa2ac4ca",
   "metadata": {},
   "source": [
    "要读取csv可以运行这一段代码\n",
    "```\n",
    "import pandas as pd\n",
    "\n",
    "data = pd.read_csv('AAPL.csv', index_col='date', parse_dates=True)\n",
    "print(data.head())\n",
    "\n",
    "```"
   ]
  },
  {
   "cell_type": "code",
   "execution_count": 8,
   "id": "8bd5361c",
   "metadata": {},
   "outputs": [],
   "source": [
    "from alpha_vantage.timeseries import TimeSeries\n",
    "\n",
    "api_key = 'N05EUNR6XEI03XGY'  # 替换为自己的API Key\n",
    "symbol = 'AAPL'  # 股票代码\n",
    "\n",
    "ts = TimeSeries(key=api_key, output_format='pandas')\n",
    "data, meta_data = ts.get_daily_adjusted(symbol=symbol, outputsize='full')\n",
    "data.to_csv('AAPL.csv')\n"
   ]
  },
  {
   "cell_type": "markdown",
   "id": "78eafa23",
   "metadata": {},
   "source": [
    "## 好的，以下是一个简单的三层神经网络的代码，使用 Python 和 NumPy 库："
   ]
  },
  {
   "cell_type": "code",
   "execution_count": 1,
   "id": "4cff7885",
   "metadata": {},
   "outputs": [
    {
     "name": "stdout",
     "output_type": "stream",
     "text": [
      "[[0.72514024 0.26888492 0.13779854]]\n"
     ]
    }
   ],
   "source": [
    "import numpy as np\n",
    "\n",
    "# 定义输入、隐藏和输出层的神经元数量\n",
    "input_size = 4\n",
    "hidden_size = 5\n",
    "output_size = 3\n",
    "\n",
    "# 初始化权重矩阵和偏置向量\n",
    "w1 = np.random.randn(input_size, hidden_size)\n",
    "b1 = np.random.randn(hidden_size)\n",
    "w2 = np.random.randn(hidden_size, output_size)\n",
    "b2 = np.random.randn(output_size)\n",
    "\n",
    "# 定义 sigmoid 激活函数\n",
    "def sigmoid(x):\n",
    "    return 1 / (1 + np.exp(-x))\n",
    "\n",
    "# 定义神经网络的前向传播函数\n",
    "def forward(x):\n",
    "    z1 = np.dot(x, w1) + b1\n",
    "    a1 = sigmoid(z1)\n",
    "    z2 = np.dot(a1, w2) + b2\n",
    "    y = sigmoid(z2)\n",
    "    return y\n",
    "\n",
    "# 测试神经网络\n",
    "x = np.random.randn(1, input_size) # 输入数据\n",
    "y = forward(x) # 输出结果\n",
    "print(y)\n"
   ]
  },
  {
   "cell_type": "markdown",
   "id": "a0950fb3",
   "metadata": {},
   "source": [
    "这个神经网络包含一个输入层，一个隐藏层和一个输出层。\n",
    "\n",
    "其中，输入层包含4个神经元，隐藏层包含5个神经元，输出层包含3个神经元。\n",
    "\n",
    "我们使用随机权重和偏置初始化神经网络，然后定义 sigmoid 激活函数和神经网络的前向传播函数。\n",
    "\n",
    "最后，我们使用一个随机输入向量来测试神经网络。\n",
    "\n",
    "\n",
    "\n"
   ]
  },
  {
   "cell_type": "code",
   "execution_count": null,
   "id": "8b6bfa69",
   "metadata": {},
   "outputs": [],
   "source": []
  }
 ],
 "metadata": {
  "kernelspec": {
   "display_name": "Python [conda env:root] *",
   "language": "python",
   "name": "conda-root-py"
  },
  "language_info": {
   "codemirror_mode": {
    "name": "ipython",
    "version": 3
   },
   "file_extension": ".py",
   "mimetype": "text/x-python",
   "name": "python",
   "nbconvert_exporter": "python",
   "pygments_lexer": "ipython3",
   "version": "3.10.8"
  }
 },
 "nbformat": 4,
 "nbformat_minor": 5
}
